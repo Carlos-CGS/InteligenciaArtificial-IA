{
 "cells": [
  {
   "cell_type": "markdown",
   "metadata": {
    "id": "06JuIP-F68qE"
   },
   "source": [
    "# Introdução a Modelos Baseados em Transfomers\n",
    "#### Aula Prática"
   ]
  },
  {
   "cell_type": "markdown",
   "metadata": {
    "id": "1Iy8dt8O7EyH"
   },
   "source": [
    "### Descriçao\n",
    "\n",
    "---\n",
    "1. O objetivo deste notebook é aprender a usar o transformers e suas pipelines na prática, via código.\n",
    "\n",
    "2. Utilizaremos o conjunto de dados proposto no [hugging face](https://huggingface.co/) e também a api do [OPENAI](https://platform.openai.com)\n",
    "---"
   ]
  },
  {
   "cell_type": "markdown",
   "metadata": {
    "id": "zHn9EfLK7taC"
   },
   "source": [
    "# Instalação dos pacotes"
   ]
  },
  {
   "cell_type": "markdown",
   "metadata": {
    "id": "Q-m64AvF7xD5"
   },
   "source": [
    "# Instalando as bibliotecas\n"
   ]
  },
  {
   "cell_type": "code",
   "execution_count": null,
   "metadata": {
    "id": "b2b3cAlKfCxG"
   },
   "outputs": [],
   "source": [
    "!pip install openai==0.28"
   ]
  },
  {
   "cell_type": "code",
   "execution_count": null,
   "metadata": {
    "id": "wf1KudeQ70hz"
   },
   "outputs": [],
   "source": [
    "!pip install transformers  beautifulsoup4 requests\n"
   ]
  },
  {
   "cell_type": "markdown",
   "metadata": {
    "id": "yuzwcsLxOK1T"
   },
   "source": [
    "# Declarando as bibliotecas"
   ]
  },
  {
   "cell_type": "code",
   "execution_count": null,
   "metadata": {
    "id": "8f25_DrYOJV0"
   },
   "outputs": [],
   "source": [
    "from transformers import pipeline, BertTokenizerFast, EncoderDecoderModel\n",
    "import torch\n",
    "import openai\n",
    "import requests\n",
    "from bs4 import BeautifulSoup"
   ]
  },
  {
   "cell_type": "markdown",
   "metadata": {
    "id": "H8tDE2VeR5Ie"
   },
   "source": [
    "# Raspando dados da internet"
   ]
  },
  {
   "cell_type": "code",
   "execution_count": null,
   "metadata": {
    "id": "8IzD7ATGR9-G"
   },
   "outputs": [],
   "source": [
    "def extraindo_texto_da_web(url):\n",
    "    response = requests.get(url)\n",
    "    response.raise_for_status()  # Verifica se o request foi bem-sucedido\n",
    "    soup = BeautifulSoup(response.text, 'html.parser')\n",
    "\n",
    "    # Extrai todo o texto visível da página\n",
    "    paragraphs = soup.find_all('p')\n",
    "    text = \" \".join([para.get_text() for para in paragraphs])\n",
    "    return text\n",
    "\n",
    "url = \"https://pt.wikipedia.org/wiki/Microsoft_Office\"\n",
    "\n",
    "documento = extraindo_texto_da_web(url)\n"
   ]
  },
  {
   "cell_type": "markdown",
   "metadata": {
    "id": "RFs_DLmg9XWD"
   },
   "source": [
    "# Usando o Transformers"
   ]
  },
  {
   "cell_type": "markdown",
   "metadata": {
    "id": "3rc2DD_j9a_J"
   },
   "source": [
    "## Q & R\n",
    "#### Caso de Uso:\n",
    "  1. Precisamos de um modelo que entenda regras e história da Microsoft Office 365 responda nossas dúvidas sobre o assunto."
   ]
  },
  {
   "cell_type": "code",
   "execution_count": null,
   "metadata": {
    "id": "-K_KTv7V9aEz"
   },
   "outputs": [],
   "source": [
    "\n",
    "\n",
    "qa = pipeline(\"question-answering\")\n",
    "\n",
    "pergunta = input(\"Pergunta: \")\n",
    "result = qa(question=pergunta,\n",
    "            context=documento,\n",
    "            max_lenght= 100)\n",
    "print(f\"Resposta: {result['answer']}\\n\")\n"
   ]
  },
  {
   "cell_type": "markdown",
   "metadata": {
    "id": "u3QUUgTESwqc"
   },
   "source": [
    "## Summarize"
   ]
  },
  {
   "cell_type": "markdown",
   "metadata": {
    "id": "rY1fLhXCTDj1"
   },
   "source": [
    "#### Caso de Uso:\n",
    "  1. Precisamos de um modelo que entenda regras e história da Microsoft Office 365 e resuma o assunto"
   ]
  },
  {
   "cell_type": "code",
   "execution_count": null,
   "metadata": {
    "id": "-UsNap80S5Rf"
   },
   "outputs": [],
   "source": [
    "resumo = pipeline(\"summarization\")\n",
    "\n",
    "result = resumo(documento,\n",
    "                max_length=100,\n",
    "                min_length=50,\n",
    "                do_sample=False)\n",
    "\n",
    "# Exibe o resumo\n",
    "print(f\"Resumo: {result[0]['summary_text']}\\n\")"
   ]
  },
  {
   "cell_type": "markdown",
   "metadata": {
    "id": "KCdF_Eg1ZulB"
   },
   "source": [
    "## Análise de Sentimento"
   ]
  },
  {
   "cell_type": "code",
   "execution_count": null,
   "metadata": {
    "id": "vuOGBD0pZxr9"
   },
   "outputs": [],
   "source": [
    "analise_sentimento = pipeline(\"sentiment-analysis\")\n",
    "\n",
    "# Exemplo de texto para análise\n",
    "paragrafo = \"\"\"\n",
    "Microsoft Office é uma suíte de aplicativos para escritório que contém programas como Word, Excel e PowerPoint.\n",
    "Lançado pela Microsoft, é amplamente utilizado para criação e edição de documentos, planilhas e apresentações.\n",
    "Desde sua introdução, tem sido uma ferramenta essencial tanto para o uso pessoal quanto para empresas.\n",
    "No entanto, existem alternativas gratuitas, como o Google Docs, que têm desafiado o domínio da Microsoft neste setor.\n",
    "\"\"\"\n",
    "\n",
    "# Realiza a análise de sentimento no texto\n",
    "result = analise_sentimento(paragrafo)\n",
    "\n",
    "# Exibe os resultados\n",
    "for idx, sentimento in enumerate(result):\n",
    "    print(f\"Frase {idx + 1}: {sentimento}\\n\")\n"
   ]
  },
  {
   "cell_type": "markdown",
   "metadata": {
    "id": "8Y1GVNSU71hj"
   },
   "source": [
    "# Usando o BERT"
   ]
  },
  {
   "cell_type": "markdown",
   "metadata": {
    "id": "KMYS2307U6Dg"
   },
   "source": [
    "## Q & R"
   ]
  },
  {
   "cell_type": "code",
   "execution_count": null,
   "metadata": {
    "id": "0xwROaei74be"
   },
   "outputs": [],
   "source": [
    "\n",
    "qa = pipeline(\"question-answering\", model=\"bert-large-uncased-whole-word-masking-finetuned-squad\")\n",
    "\n",
    "pergunta = input(\"Pergunta: \")\n",
    "result = qa(question=pergunta,\n",
    "            context=documento,\n",
    "            max_lengh=100)\n",
    "\n",
    "print(f\"Resposta: {result['answer']}\\n\")"
   ]
  },
  {
   "cell_type": "markdown",
   "metadata": {
    "id": "AddfZOCOXwEZ"
   },
   "source": [
    "## Summarize"
   ]
  },
  {
   "cell_type": "code",
   "execution_count": null,
   "metadata": {
    "id": "-bsBCBAQXyDa"
   },
   "outputs": [],
   "source": [
    "\n",
    "\n",
    "device = torch.device('cuda' if torch.cuda.is_available() else 'cpu')\n",
    "tokenizer = BertTokenizerFast.from_pretrained('mrm8488/bert-mini2bert-mini-finetuned-cnn_daily_mail-summarization')\n",
    "model = EncoderDecoderModel.from_pretrained('mrm8488/bert-mini2bert-mini-finetuned-cnn_daily_mail-summarization').to(device)\n",
    "\n",
    "def resumo(documento):\n",
    "    inputs = tokenizer([documento], padding=\"max_length\", truncation=True, max_length=512, return_tensors=\"pt\")\n",
    "    input_ids = inputs.input_ids.to(device)\n",
    "    attention_mask = inputs.attention_mask.to(device)\n",
    "\n",
    "    output = model.generate(input_ids, attention_mask=attention_mask)\n",
    "\n",
    "    return f\" Resumo: {tokenizer.decode(output[0], skip_special_tokens=True)}\"\n",
    "\n",
    "resumo(documento)\n"
   ]
  },
  {
   "cell_type": "markdown",
   "metadata": {
    "id": "vE0AJPGraVEf"
   },
   "source": [
    "## Análise de Sentimento"
   ]
  },
  {
   "cell_type": "code",
   "execution_count": null,
   "metadata": {
    "id": "CWo9AKzuaX_A"
   },
   "outputs": [],
   "source": [
    "\n",
    "analise_sentimento = pipeline(\"sentiment-analysis\", model=\"nlptown/bert-base-multilingual-uncased-sentiment\")\n",
    "\n",
    "documento = \"\"\"\n",
    "Microsoft Office é uma suíte de aplicativos para escritório que contém programas como Word, Excel e PowerPoint.\n",
    "Lançado pela Microsoft, é amplamente utilizado para criação e edição de documentos, planilhas e apresentações.\n",
    "Desde sua introdução, tem sido uma ferramenta essencial tanto para o uso pessoal quanto para empresas.\n",
    "No entanto, existem alternativas gratuitas, como o Google Docs, que têm desafiado o domínio da Microsoft neste setor.\n",
    "\"\"\"\n",
    "\n",
    "resultados = analise_sentimento(documento)\n",
    "\n",
    "def mapear_sentimento(label):\n",
    "    estrelas = int(label.split()[0])\n",
    "    if estrelas in [1, 2]:\n",
    "        return \"Negativo\"\n",
    "    elif estrelas == 3:\n",
    "        return \"Neutro\"\n",
    "    else:\n",
    "        return \"Positivo\"\n",
    "\n",
    "# Processa o resultado\n",
    "for idx, resultado in enumerate(resultados):\n",
    "    sentimento = mapear_sentimento(resultado['label'])\n",
    "    print(f\"Texto {idx + 1}: {documento}\")\n",
    "    print(f\"Classificação: {sentimento} (Confiança: {resultado['score']:.2f})\\n\")\n",
    "\n"
   ]
  },
  {
   "cell_type": "markdown",
   "metadata": {
    "id": "aJQwYRH8bBmi"
   },
   "source": [
    "##### inferência\n",
    "\n",
    "Modelo Usado:\n",
    "\n",
    "    O modelo nlptown/bert-base-multilingual-uncased-sentiment é uma variante do BERT treinada para análise de sentimentos em vários idiomas. Ele retorna a probabilidade de diferentes níveis de sentimento (de 1 a 5 estrelas).\n",
    "        1-2 estrelas: \"Negativo\".\n",
    "        3 estrelas: \"Neutro\".\n",
    "        4-5 estrelas: \"Positivo\"."
   ]
  },
  {
   "cell_type": "markdown",
   "metadata": {
    "id": "6NaRYm4G77Pe"
   },
   "source": [
    "# Usando o OPENAI"
   ]
  },
  {
   "cell_type": "code",
   "execution_count": null,
   "metadata": {
    "id": "7R30D75ugOFL"
   },
   "outputs": [],
   "source": [
    "openai.api_key = \"Use a sua API\"\n"
   ]
  },
  {
   "cell_type": "markdown",
   "metadata": {
    "id": "SFHGoUh0cbIO"
   },
   "source": [
    "## Q & R"
   ]
  },
  {
   "cell_type": "code",
   "execution_count": null,
   "metadata": {
    "id": "A2qIN-Pv78wE"
   },
   "outputs": [],
   "source": [
    "\n",
    "\n",
    "pergunta = input(\"Faça a sua pergunta: \")\n",
    "\n",
    "prompt = f\"Contexto: {documento}\\nPergunta: {pergunta}\\nResposta:\"\n",
    "\n",
    "response = openai.ChatCompletion.create(\n",
    "    model=\"gpt-3.5-turbo\",\n",
    "    messages=[\n",
    "        {\"role\": \"system\", \"content\": \"Você é um assistente útil.\"},\n",
    "        {\"role\": \"user\", \"content\": prompt},\n",
    "    ],\n",
    "    max_tokens=50,\n",
    "    temperature=0.0\n",
    ")\n",
    "\n",
    "# Exibe a resposta da pergunta\n",
    "resposta = response['choices'][0]['message']['content'].strip()\n",
    "print(f\"Resposta: {resposta}\")"
   ]
  },
  {
   "cell_type": "markdown",
   "metadata": {
    "id": "O6ope5hC79nT"
   },
   "source": [
    "## Summarize"
   ]
  },
  {
   "cell_type": "code",
   "execution_count": null,
   "metadata": {
    "id": "Ucq1sCKHcfqb"
   },
   "outputs": [],
   "source": [
    "prompt = f\"Resuma o seguinte texto de forma concisa:\\n{documento}\"\n",
    "\n",
    "# Solicitação para o modelo GPT-3.5-turbo para resumir o texto\n",
    "response = openai.ChatCompletion.create(\n",
    "    model=\"gpt-3.5-turbo\",\n",
    "    messages=[\n",
    "        {\"role\": \"system\", \"content\": \"Você é um assistente que pode resumir textos.\"},\n",
    "        {\"role\": \"user\", \"content\": prompt},\n",
    "    ],\n",
    "    max_tokens=100,\n",
    "    temperature=0.7\n",
    ")\n",
    "\n",
    "# Exibe o resumo\n",
    "resumo = response['choices'][0]['message']['content'].strip()\n",
    "print(f\"Resumo: {resumo}\")"
   ]
  },
  {
   "cell_type": "markdown",
   "metadata": {
    "id": "HM19BQJccgYs"
   },
   "source": [
    "## Análise de Sentimento"
   ]
  },
  {
   "cell_type": "code",
   "execution_count": null,
   "metadata": {
    "id": "1LfyhmkEch-0"
   },
   "outputs": [],
   "source": [
    "\n",
    "\n",
    "# Texto para análise de sentimento\n",
    "texto = \"\"\"\n",
    "Maycon é um cara muito legal, eu amo ele!\n",
    "\"\"\"\n",
    "\n",
    "# Prompt para análise de sentimento\n",
    "prompt = f\"Classifique o sentimento do seguinte texto como 'Positivo', 'Negativo' ou 'Neutro':\\n{texto}\"\n",
    "\n",
    "response = openai.ChatCompletion.create(\n",
    "    model=\"gpt-3.5-turbo\",  # Ou \"gpt-3.5-turbo\" ou outro modelo de chat compatível\n",
    "    messages=[\n",
    "        {\"role\": \"system\", \"content\": \"Você é um assistente útil.\"},\n",
    "        {\"role\": \"user\", \"content\": prompt},\n",
    "    ],\n",
    "    max_tokens=60,\n",
    "    temperature=0.0  # Temperatura baixa para respostas diretas\n",
    ")\n",
    "\n",
    "# Extrair e exibir o sentimento\n",
    "sentimento = response['choices'][0]['message']['content'].strip()\n",
    "print(f\"Sentimento: {sentimento}\")\n"
   ]
  }
 ],
 "metadata": {
  "colab": {
   "collapsed_sections": [
    "06JuIP-F68qE",
    "H8tDE2VeR5Ie",
    "3rc2DD_j9a_J",
    "KMYS2307U6Dg",
    "6NaRYm4G77Pe"
   ],
   "provenance": []
  },
  "kernelspec": {
   "display_name": "Python 3",
   "name": "python3"
  },
  "language_info": {
   "name": "python"
  }
 },
 "nbformat": 4,
 "nbformat_minor": 0
}
